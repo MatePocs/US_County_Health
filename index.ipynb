{
 "cells": [
  {
   "cell_type": "markdown",
   "metadata": {},
   "source": [
    "# U.S. County Mental Health Analysis"
   ]
  },
  {
   "cell_type": "markdown",
   "metadata": {},
   "source": [
    "This Jupyter Notebook is the result of the collaborative work between Song Ying and Mate Pocs, carried out for Flatiron School's Mod4 Project. "
   ]
  },
  {
   "cell_type": "code",
   "execution_count": 70,
   "metadata": {},
   "outputs": [],
   "source": [
    "# importing standard libraries\n",
    "import pandas as pd\n",
    "import numpy as np\n",
    "import matplotlib.pyplot as plt\n",
    "import warnings\n",
    "import math\n",
    "import seaborn as sns\n",
    "\n",
    "# importing our code we created for the project\n",
    "import us_county\n",
    "\n",
    "warnings.filterwarnings('ignore')\n",
    "plt.style.use('fivethirtyeight')"
   ]
  },
  {
   "cell_type": "markdown",
   "metadata": {},
   "source": [
    "## Data Preparation"
   ]
  },
  {
   "cell_type": "markdown",
   "metadata": {},
   "source": [
    "There are two available data files for this project: \n",
    "<br>\n",
    "- 2019 County Health Rankings Data - v2.xls\n",
    "- analytic_data2019.csv\n",
    "<br>\n",
    "\n",
    "The <code>.xls</code> file contains some of the raw data, aggregated statistics calculated from the data, and most importantly, the data dictionary. The <code>.csv</code> file contains more raw data. After comparing the two files, we decided to use the <code>.xls</code> file for getting a better understanding with the data dictionary, and use the <code>.csv</code> file to import the data. "
   ]
  },
  {
   "cell_type": "code",
   "execution_count": 2,
   "metadata": {},
   "outputs": [],
   "source": [
    "# importing data from .csv file\n",
    "df = pd.read_csv('analytic_data2019.csv')"
   ]
  },
  {
   "cell_type": "markdown",
   "metadata": {},
   "source": [
    "The <code>.csv</code> file has a few columns that identify the county, and then, different aspects of the same variable. We decided that a good way to filter down to the necessary data is to search for \"rawvalue\"-s. These usually correspond to the bold figures in the Excel file. For a couple of categories, multiple columns are bold in the <code>.xls</code> file, but in those cases, we decided that we can still use the <code>rawvalue</code> columns, the other bold value is the simple the reciprocal of the first one in these cases. "
   ]
  },
  {
   "cell_type": "code",
   "execution_count": 3,
   "metadata": {},
   "outputs": [],
   "source": [
    "# keeping first 6 columns and rawvalues\n",
    "columns_to_drop = []\n",
    "for column in df.columns[6:]:\n",
    "    if not (df[column][0]).endswith('rawvalue'):\n",
    "        columns_to_drop.append(column)\n",
    "        \n",
    "df.drop(columns_to_drop, inplace = True, axis = 1)"
   ]
  },
  {
   "cell_type": "code",
   "execution_count": 4,
   "metadata": {},
   "outputs": [],
   "source": [
    "# dropping first row, which is the second header\n",
    "df.drop(0, axis = 0, inplace = True)"
   ]
  },
  {
   "cell_type": "markdown",
   "metadata": {},
   "source": [
    "Next we are dropping the aggregate rows. The per country / per state aggregate rows are coded either as '000' or 0 in the <code>Country FIPS Code</code> column. "
   ]
  },
  {
   "cell_type": "code",
   "execution_count": 5,
   "metadata": {},
   "outputs": [
    {
     "data": {
      "text/plain": [
       "(3194, 111)"
      ]
     },
     "execution_count": 5,
     "metadata": {},
     "output_type": "execute_result"
    }
   ],
   "source": [
    "df.shape"
   ]
  },
  {
   "cell_type": "code",
   "execution_count": 6,
   "metadata": {},
   "outputs": [],
   "source": [
    "df = df[df['County FIPS Code'] != '000']"
   ]
  },
  {
   "cell_type": "code",
   "execution_count": 7,
   "metadata": {},
   "outputs": [],
   "source": [
    "df = df[df['County FIPS Code'] != 0]"
   ]
  },
  {
   "cell_type": "code",
   "execution_count": 8,
   "metadata": {},
   "outputs": [
    {
     "data": {
      "text/plain": [
       "(3142, 111)"
      ]
     },
     "execution_count": 8,
     "metadata": {},
     "output_type": "execute_result"
    }
   ],
   "source": [
    "df.shape"
   ]
  },
  {
   "cell_type": "markdown",
   "metadata": {},
   "source": [
    "We dropped 52 rows, which sounds correct.\n",
    "<br>\n",
    "\n",
    "We are left with 3,142 rows. From the [Wikipedia] page: _\"As of 2018, there are currently 3,142 counties and county-equivalents in the 50 states and the District of Columbia.\"_\n",
    "\n",
    "[Wikipedia]: https://en.wikipedia.org/wiki/County_(United_States)"
   ]
  },
  {
   "cell_type": "markdown",
   "metadata": {},
   "source": [
    "Next, we are checking for missing data. There are a lot of columns with over 1,000 missing elements. Interestingly, there are items at the end of the <code>.csv</code> file that are only populated for one state. We are looping through the columns, and dropping the columns where more than 10% of the rows are missing. "
   ]
  },
  {
   "cell_type": "code",
   "execution_count": 28,
   "metadata": {},
   "outputs": [],
   "source": [
    "# TODO: add a counter here"
   ]
  },
  {
   "cell_type": "code",
   "execution_count": 9,
   "metadata": {},
   "outputs": [],
   "source": [
    "# dropping columns missing more than 10% of the data\n",
    "columns_to_drop = []\n",
    "for column in df.columns:\n",
    "    if df[column].isna().sum() > len(df) / 10:\n",
    "        columns_to_drop.append(column)\n",
    "        \n",
    "df.drop(columns_to_drop, axis = 1, inplace = True)"
   ]
  },
  {
   "cell_type": "code",
   "execution_count": 10,
   "metadata": {},
   "outputs": [],
   "source": [
    "# checking for remaining missing data\n",
    "df_missing_values = pd.DataFrame()\n",
    "\n",
    "missing_number = []\n",
    "column_name = []\n",
    "\n",
    "for column in df.columns:\n",
    "    column_name.append(column)\n",
    "    missing_number.append(df[column].isna().sum())\n",
    "    \n",
    "df_missing_values['column_name'] = column_name\n",
    "df_missing_values['missing_number'] = missing_number"
   ]
  },
  {
   "cell_type": "code",
   "execution_count": 11,
   "metadata": {},
   "outputs": [],
   "source": [
    "df_missing_values = df_missing_values.sort_values('missing_number', ascending = False)"
   ]
  },
  {
   "cell_type": "code",
   "execution_count": 12,
   "metadata": {},
   "outputs": [
    {
     "data": {
      "text/html": [
       "<div>\n",
       "<style scoped>\n",
       "    .dataframe tbody tr th:only-of-type {\n",
       "        vertical-align: middle;\n",
       "    }\n",
       "\n",
       "    .dataframe tbody tr th {\n",
       "        vertical-align: top;\n",
       "    }\n",
       "\n",
       "    .dataframe thead th {\n",
       "        text-align: right;\n",
       "    }\n",
       "</style>\n",
       "<table border=\"1\" class=\"dataframe\">\n",
       "  <thead>\n",
       "    <tr style=\"text-align: right;\">\n",
       "      <th></th>\n",
       "      <th>column_name</th>\n",
       "      <th>missing_number</th>\n",
       "    </tr>\n",
       "  </thead>\n",
       "  <tbody>\n",
       "    <tr>\n",
       "      <td>23</td>\n",
       "      <td>Mental health providers raw value</td>\n",
       "      <td>252</td>\n",
       "    </tr>\n",
       "    <tr>\n",
       "      <td>34</td>\n",
       "      <td>Violent crime raw value</td>\n",
       "      <td>191</td>\n",
       "    </tr>\n",
       "    <tr>\n",
       "      <td>18</td>\n",
       "      <td>Sexually transmitted infections raw value</td>\n",
       "      <td>158</td>\n",
       "    </tr>\n",
       "    <tr>\n",
       "      <td>19</td>\n",
       "      <td>Teen births raw value</td>\n",
       "      <td>144</td>\n",
       "    </tr>\n",
       "    <tr>\n",
       "      <td>21</td>\n",
       "      <td>Primary care physicians raw value</td>\n",
       "      <td>135</td>\n",
       "    </tr>\n",
       "    <tr>\n",
       "      <td>53</td>\n",
       "      <td>Children eligible for free or reduced price lu...</td>\n",
       "      <td>121</td>\n",
       "    </tr>\n",
       "    <tr>\n",
       "      <td>10</td>\n",
       "      <td>Low birthweight raw value</td>\n",
       "      <td>107</td>\n",
       "    </tr>\n",
       "    <tr>\n",
       "      <td>35</td>\n",
       "      <td>Injury deaths raw value</td>\n",
       "      <td>103</td>\n",
       "    </tr>\n",
       "    <tr>\n",
       "      <td>27</td>\n",
       "      <td>High school graduation raw value</td>\n",
       "      <td>99</td>\n",
       "    </tr>\n",
       "    <tr>\n",
       "      <td>22</td>\n",
       "      <td>Dentists raw value</td>\n",
       "      <td>85</td>\n",
       "    </tr>\n",
       "  </tbody>\n",
       "</table>\n",
       "</div>"
      ],
      "text/plain": [
       "                                          column_name  missing_number\n",
       "23                  Mental health providers raw value             252\n",
       "34                            Violent crime raw value             191\n",
       "18          Sexually transmitted infections raw value             158\n",
       "19                              Teen births raw value             144\n",
       "21                  Primary care physicians raw value             135\n",
       "53  Children eligible for free or reduced price lu...             121\n",
       "10                          Low birthweight raw value             107\n",
       "35                            Injury deaths raw value             103\n",
       "27                   High school graduation raw value              99\n",
       "22                                 Dentists raw value              85"
      ]
     },
     "execution_count": 12,
     "metadata": {},
     "output_type": "execute_result"
    }
   ],
   "source": [
    "df_missing_values.head(10)"
   ]
  },
  {
   "cell_type": "markdown",
   "metadata": {},
   "source": [
    "There are smaller portions missing from multiple columns. We did not want to exclude these from the analysis, or delete rows where any element was missing. We decided to impute these values with a median method. Before we do that, however, we need to make sure that the values are floats, and we are also renaming the columns to make it easier to worki with them. "
   ]
  },
  {
   "cell_type": "code",
   "execution_count": 17,
   "metadata": {},
   "outputs": [],
   "source": [
    "rename_dictionary = us_county.rename_dictionary\n",
    "df.rename(columns=rename_dictionary, inplace = True);"
   ]
  },
  {
   "cell_type": "markdown",
   "metadata": {},
   "source": [
    "All columns should be floats. "
   ]
  },
  {
   "cell_type": "code",
   "execution_count": 18,
   "metadata": {},
   "outputs": [],
   "source": [
    "for column in df.columns[6:]:\n",
    "    df[column] = df[column].map(lambda x: float(x))"
   ]
  },
  {
   "cell_type": "markdown",
   "metadata": {},
   "source": [
    "Next, we create a separate DataFrame with the median values. "
   ]
  },
  {
   "cell_type": "code",
   "execution_count": 22,
   "metadata": {},
   "outputs": [],
   "source": [
    "state_median_df = df.groupby('state').median()"
   ]
  },
  {
   "cell_type": "code",
   "execution_count": 41,
   "metadata": {},
   "outputs": [
    {
     "data": {
      "text/html": [
       "<div>\n",
       "<style scoped>\n",
       "    .dataframe tbody tr th:only-of-type {\n",
       "        vertical-align: middle;\n",
       "    }\n",
       "\n",
       "    .dataframe tbody tr th {\n",
       "        vertical-align: top;\n",
       "    }\n",
       "\n",
       "    .dataframe thead th {\n",
       "        text-align: right;\n",
       "    }\n",
       "</style>\n",
       "<table border=\"1\" class=\"dataframe\">\n",
       "  <thead>\n",
       "    <tr style=\"text-align: right;\">\n",
       "      <th></th>\n",
       "      <th>YPLL</th>\n",
       "      <th>poor_health</th>\n",
       "      <th>poor_physical_health_days</th>\n",
       "      <th>poor_mental_health_days</th>\n",
       "      <th>LBW</th>\n",
       "      <th>smokers</th>\n",
       "      <th>obese</th>\n",
       "      <th>food_environment_index</th>\n",
       "      <th>physically_inactive</th>\n",
       "      <th>exercise_acces</th>\n",
       "      <th>...</th>\n",
       "      <th>above_age65</th>\n",
       "      <th>nonhisp_africanamerican</th>\n",
       "      <th>americanindian_alaskannative</th>\n",
       "      <th>asian</th>\n",
       "      <th>nativehawaiian_otherpacific</th>\n",
       "      <th>hispanic</th>\n",
       "      <th>nonhispanic_whit</th>\n",
       "      <th>notproficient_english</th>\n",
       "      <th>females</th>\n",
       "      <th>rural</th>\n",
       "    </tr>\n",
       "    <tr>\n",
       "      <th>state</th>\n",
       "      <th></th>\n",
       "      <th></th>\n",
       "      <th></th>\n",
       "      <th></th>\n",
       "      <th></th>\n",
       "      <th></th>\n",
       "      <th></th>\n",
       "      <th></th>\n",
       "      <th></th>\n",
       "      <th></th>\n",
       "      <th></th>\n",
       "      <th></th>\n",
       "      <th></th>\n",
       "      <th></th>\n",
       "      <th></th>\n",
       "      <th></th>\n",
       "      <th></th>\n",
       "      <th></th>\n",
       "      <th></th>\n",
       "      <th></th>\n",
       "      <th></th>\n",
       "    </tr>\n",
       "  </thead>\n",
       "  <tbody>\n",
       "    <tr>\n",
       "      <td>AK</td>\n",
       "      <td>7876.536065</td>\n",
       "      <td>0.154541</td>\n",
       "      <td>3.745194</td>\n",
       "      <td>3.442669</td>\n",
       "      <td>0.058552</td>\n",
       "      <td>0.187008</td>\n",
       "      <td>0.3220</td>\n",
       "      <td>6.90</td>\n",
       "      <td>0.211</td>\n",
       "      <td>0.786260</td>\n",
       "      <td>...</td>\n",
       "      <td>0.125880</td>\n",
       "      <td>0.009324</td>\n",
       "      <td>0.163031</td>\n",
       "      <td>0.024990</td>\n",
       "      <td>0.003460</td>\n",
       "      <td>0.049265</td>\n",
       "      <td>0.498513</td>\n",
       "      <td>0.009650</td>\n",
       "      <td>0.472936</td>\n",
       "      <td>0.793375</td>\n",
       "    </tr>\n",
       "    <tr>\n",
       "      <td>AL</td>\n",
       "      <td>10875.865439</td>\n",
       "      <td>0.222160</td>\n",
       "      <td>4.699272</td>\n",
       "      <td>4.740404</td>\n",
       "      <td>0.101167</td>\n",
       "      <td>0.207356</td>\n",
       "      <td>0.3710</td>\n",
       "      <td>7.10</td>\n",
       "      <td>0.309</td>\n",
       "      <td>0.483473</td>\n",
       "      <td>...</td>\n",
       "      <td>0.184502</td>\n",
       "      <td>0.230050</td>\n",
       "      <td>0.005291</td>\n",
       "      <td>0.005651</td>\n",
       "      <td>0.000738</td>\n",
       "      <td>0.026710</td>\n",
       "      <td>0.689275</td>\n",
       "      <td>0.005943</td>\n",
       "      <td>0.514528</td>\n",
       "      <td>0.712322</td>\n",
       "    </tr>\n",
       "    <tr>\n",
       "      <td>AR</td>\n",
       "      <td>10744.462101</td>\n",
       "      <td>0.226897</td>\n",
       "      <td>4.893776</td>\n",
       "      <td>4.968565</td>\n",
       "      <td>0.084203</td>\n",
       "      <td>0.207739</td>\n",
       "      <td>0.3580</td>\n",
       "      <td>6.60</td>\n",
       "      <td>0.345</td>\n",
       "      <td>0.532240</td>\n",
       "      <td>...</td>\n",
       "      <td>0.190218</td>\n",
       "      <td>0.081519</td>\n",
       "      <td>0.007149</td>\n",
       "      <td>0.005667</td>\n",
       "      <td>0.000569</td>\n",
       "      <td>0.035295</td>\n",
       "      <td>0.796092</td>\n",
       "      <td>0.005745</td>\n",
       "      <td>0.507171</td>\n",
       "      <td>0.650608</td>\n",
       "    </tr>\n",
       "    <tr>\n",
       "      <td>AZ</td>\n",
       "      <td>7833.688943</td>\n",
       "      <td>0.208533</td>\n",
       "      <td>4.509992</td>\n",
       "      <td>4.033836</td>\n",
       "      <td>0.070935</td>\n",
       "      <td>0.156047</td>\n",
       "      <td>0.2970</td>\n",
       "      <td>6.20</td>\n",
       "      <td>0.243</td>\n",
       "      <td>0.666617</td>\n",
       "      <td>...</td>\n",
       "      <td>0.183112</td>\n",
       "      <td>0.012587</td>\n",
       "      <td>0.043069</td>\n",
       "      <td>0.011259</td>\n",
       "      <td>0.001833</td>\n",
       "      <td>0.300955</td>\n",
       "      <td>0.541257</td>\n",
       "      <td>0.038441</td>\n",
       "      <td>0.499798</td>\n",
       "      <td>0.331972</td>\n",
       "    </tr>\n",
       "    <tr>\n",
       "      <td>CA</td>\n",
       "      <td>6435.574344</td>\n",
       "      <td>0.163038</td>\n",
       "      <td>3.685637</td>\n",
       "      <td>3.820639</td>\n",
       "      <td>0.064516</td>\n",
       "      <td>0.123397</td>\n",
       "      <td>0.2445</td>\n",
       "      <td>7.85</td>\n",
       "      <td>0.182</td>\n",
       "      <td>0.870061</td>\n",
       "      <td>...</td>\n",
       "      <td>0.153316</td>\n",
       "      <td>0.018185</td>\n",
       "      <td>0.024039</td>\n",
       "      <td>0.044984</td>\n",
       "      <td>0.003119</td>\n",
       "      <td>0.256328</td>\n",
       "      <td>0.518193</td>\n",
       "      <td>0.065316</td>\n",
       "      <td>0.501381</td>\n",
       "      <td>0.160382</td>\n",
       "    </tr>\n",
       "  </tbody>\n",
       "</table>\n",
       "<p>5 rows × 62 columns</p>\n",
       "</div>"
      ],
      "text/plain": [
       "               YPLL  poor_health  poor_physical_health_days  \\\n",
       "state                                                         \n",
       "AK      7876.536065     0.154541                   3.745194   \n",
       "AL     10875.865439     0.222160                   4.699272   \n",
       "AR     10744.462101     0.226897                   4.893776   \n",
       "AZ      7833.688943     0.208533                   4.509992   \n",
       "CA      6435.574344     0.163038                   3.685637   \n",
       "\n",
       "       poor_mental_health_days       LBW   smokers   obese  \\\n",
       "state                                                        \n",
       "AK                    3.442669  0.058552  0.187008  0.3220   \n",
       "AL                    4.740404  0.101167  0.207356  0.3710   \n",
       "AR                    4.968565  0.084203  0.207739  0.3580   \n",
       "AZ                    4.033836  0.070935  0.156047  0.2970   \n",
       "CA                    3.820639  0.064516  0.123397  0.2445   \n",
       "\n",
       "       food_environment_index  physically_inactive  exercise_acces  ...  \\\n",
       "state                                                               ...   \n",
       "AK                       6.90                0.211        0.786260  ...   \n",
       "AL                       7.10                0.309        0.483473  ...   \n",
       "AR                       6.60                0.345        0.532240  ...   \n",
       "AZ                       6.20                0.243        0.666617  ...   \n",
       "CA                       7.85                0.182        0.870061  ...   \n",
       "\n",
       "       above_age65  nonhisp_africanamerican  americanindian_alaskannative  \\\n",
       "state                                                                       \n",
       "AK        0.125880                 0.009324                      0.163031   \n",
       "AL        0.184502                 0.230050                      0.005291   \n",
       "AR        0.190218                 0.081519                      0.007149   \n",
       "AZ        0.183112                 0.012587                      0.043069   \n",
       "CA        0.153316                 0.018185                      0.024039   \n",
       "\n",
       "          asian  nativehawaiian_otherpacific  hispanic  nonhispanic_whit  \\\n",
       "state                                                                      \n",
       "AK     0.024990                     0.003460  0.049265          0.498513   \n",
       "AL     0.005651                     0.000738  0.026710          0.689275   \n",
       "AR     0.005667                     0.000569  0.035295          0.796092   \n",
       "AZ     0.011259                     0.001833  0.300955          0.541257   \n",
       "CA     0.044984                     0.003119  0.256328          0.518193   \n",
       "\n",
       "       notproficient_english   females     rural  \n",
       "state                                             \n",
       "AK                  0.009650  0.472936  0.793375  \n",
       "AL                  0.005943  0.514528  0.712322  \n",
       "AR                  0.005745  0.507171  0.650608  \n",
       "AZ                  0.038441  0.499798  0.331972  \n",
       "CA                  0.065316  0.501381  0.160382  \n",
       "\n",
       "[5 rows x 62 columns]"
      ]
     },
     "execution_count": 41,
     "metadata": {},
     "output_type": "execute_result"
    }
   ],
   "source": [
    "state_median_df.head()"
   ]
  },
  {
   "cell_type": "code",
   "execution_count": 42,
   "metadata": {},
   "outputs": [
    {
     "data": {
      "text/plain": [
       "10875.865439"
      ]
     },
     "execution_count": 42,
     "metadata": {},
     "output_type": "execute_result"
    }
   ],
   "source": [
    "state_median_df.loc['AL']['YPLL']"
   ]
  },
  {
   "cell_type": "code",
   "execution_count": 56,
   "metadata": {},
   "outputs": [],
   "source": [
    "def impute_per_state_median(row, column):\n",
    "    \"Returns the median value of the column, based on state value in row\"\n",
    "    if math.isnan(row[column]):\n",
    "        current_state = row['state']\n",
    "        return state_median_df.loc[current_state][column]\n",
    "    else:\n",
    "        return row[column]"
   ]
  },
  {
   "cell_type": "code",
   "execution_count": 62,
   "metadata": {},
   "outputs": [],
   "source": [
    "# code runs for some time, if you want to follow, uncomment print(column) line\n",
    "for column in df.columns[6:]:\n",
    "#     print(column)\n",
    "    df[column] = df.apply(lambda x: impute_per_state_median(x, column), axis = 1)"
   ]
  },
  {
   "cell_type": "markdown",
   "metadata": {},
   "source": [
    "As a final step in the data preparation, we are saving the clean data as a .csv file so we can just import it in the future. "
   ]
  },
  {
   "cell_type": "code",
   "execution_count": 61,
   "metadata": {},
   "outputs": [],
   "source": [
    "df.to_csv('data_cleaned.csv', index = False)"
   ]
  },
  {
   "cell_type": "markdown",
   "metadata": {},
   "source": [
    "## Variable Initial Exploration"
   ]
  },
  {
   "cell_type": "markdown",
   "metadata": {},
   "source": [
    "In this section, we are using visual aids to explore the data, check if the dependent variable is a good choice, etc. "
   ]
  },
  {
   "cell_type": "code",
   "execution_count": 50,
   "metadata": {},
   "outputs": [],
   "source": [
    "df = pd.read_csv('data_cleaned.csv')"
   ]
  },
  {
   "cell_type": "code",
   "execution_count": 73,
   "metadata": {},
   "outputs": [
    {
     "data": {
      "image/png": "[encoded data removed]",
      "text/plain": [
       "<Figure size 432x288 with 1 Axes>"
      ]
     },
     "metadata": {},
     "output_type": "display_data"
    }
   ],
   "source": [
    "plt.hist(df['frequent_mental_distress'], bins = 'auto')\n",
    "plt.show()"
   ]
  },
  {
   "cell_type": "code",
   "execution_count": 72,
   "metadata": {},
   "outputs": [
    {
     "data": {
      "image/png": "[encoded data removed]",
      "text/plain": [
       "<Figure size 432x288 with 1 Axes>"
      ]
     },
     "metadata": {},
     "output_type": "display_data"
    }
   ],
   "source": [
    "plt.hist(df['poor_mental_health_days'], bins = 'auto')\n",
    "plt.show()"
   ]
  },
  {
   "cell_type": "code",
   "execution_count": 66,
   "metadata": {},
   "outputs": [
    {
     "data": {
      "text/plain": [
       "frequent_mental_distress    0\n",
       "poor_mental_health_days     0\n",
       "dtype: int64"
      ]
     },
     "execution_count": 66,
     "metadata": {},
     "output_type": "execute_result"
    }
   ],
   "source": [
    "df[['frequent_mental_distress', 'poor_mental_health_days']].isna().sum()"
   ]
  },
  {
   "cell_type": "markdown",
   "metadata": {},
   "source": [
    "The two variables look similar and seem to be highly correlated. The question is, do we want to analyse the overall mental health (poor_mental_health_days), or the percentage of extremely poor mental health in population (frequent_mental_distress). "
   ]
  },
  {
   "cell_type": "code",
   "execution_count": 75,
   "metadata": {},
   "outputs": [
    {
     "data": {
      "text/plain": [
       "<seaborn.axisgrid.JointGrid at 0x120856950>"
      ]
     },
     "execution_count": 75,
     "metadata": {},
     "output_type": "execute_result"
    },
    {
     "data": {
      "image/png": "[encoded data removed]",
      "text/plain": [
       "<Figure size 432x432 with 3 Axes>"
      ]
     },
     "metadata": {},
     "output_type": "display_data"
    }
   ],
   "source": [
    "sns.jointplot(\"frequent_mental_distress\", \"poor_mental_health_days\", data=df, kind='kde')"
   ]
  },
  {
   "cell_type": "code",
   "execution_count": 76,
   "metadata": {},
   "outputs": [
    {
     "data": {
      "text/plain": [
       "Index(['FIPS_state', 'FIPS_county', 'FIPS_full', 'state', 'county', 'year',\n",
       "       'YPLL', 'poor_health', 'poor_physical_health_days',\n",
       "       'poor_mental_health_days', 'LBW', 'smokers', 'obese',\n",
       "       'food_environment_index', 'physically_inactive', 'exercise_acces',\n",
       "       'excessive_drinking', 'alcohol_impaired_driving_deaths',\n",
       "       'chlamydia_rate', 'teen_birth_rate', 'uninsured', 'PCP', 'dentists',\n",
       "       'MHP', 'preventable_hospital_stays', 'mammography_screenings',\n",
       "       'flu_vaccinated', 'high_school_graduation', 'college', 'unemployment',\n",
       "       'children_in_oiverty', 'income_inequality',\n",
       "       'children_in_singleparent_household', 'social_associations',\n",
       "       'violent_crime', 'injury_deaths', 'air_pollution', 'water_violation',\n",
       "       'severe_housing_problems', 'driving_alone_work',\n",
       "       'driving_alone_longcommute', 'life_expectancy',\n",
       "       'premature_age_adjusted_mortality', 'frequent_physical_distress',\n",
       "       'frequent_mental_distress', 'diabetes', 'food_insecurity',\n",
       "       'healthy_food_acces', 'insufficient_sleep', 'uninsured_adults',\n",
       "       'uninsured_children', 'other_primary_care_providers',\n",
       "       'median_household_income', 'children_elig_lunch', 'homeownership',\n",
       "       'severe_housing_cost_burden', 'population', 'below_age18',\n",
       "       'above_age65', 'nonhisp_africanamerican',\n",
       "       'americanindian_alaskannative', 'asian', 'nativehawaiian_otherpacific',\n",
       "       'hispanic', 'nonhispanic_whit', 'notproficient_english', 'females',\n",
       "       'rural'],\n",
       "      dtype='object')"
      ]
     },
     "execution_count": 76,
     "metadata": {},
     "output_type": "execute_result"
    }
   ],
   "source": [
    "df.columns"
   ]
  },
  {
   "cell_type": "code",
   "execution_count": 77,
   "metadata": {},
   "outputs": [
    {
     "data": {
      "text/plain": [
       "<seaborn.axisgrid.JointGrid at 0x11e758cd0>"
      ]
     },
     "execution_count": 77,
     "metadata": {},
     "output_type": "execute_result"
    },
    {
     "data": {
      "image/png": "[encoded data removed]",
      "text/plain": [
       "<Figure size 432x432 with 3 Axes>"
      ]
     },
     "metadata": {},
     "output_type": "display_data"
    }
   ],
   "source": [
    "sns.jointplot(\"unemployment\", \"poor_mental_health_days\", data=df, kind='kde')"
   ]
  },
  {
   "cell_type": "code",
   "execution_count": 78,
   "metadata": {},
   "outputs": [
    {
     "data": {
      "text/plain": [
       "<seaborn.axisgrid.JointGrid at 0x1201f0490>"
      ]
     },
     "execution_count": 78,
     "metadata": {},
     "output_type": "execute_result"
    },
    {
     "data": {
      "image/png": "[encoded data removed]",
      "text/plain": [
       "<Figure size 432x432 with 3 Axes>"
      ]
     },
     "metadata": {},
     "output_type": "display_data"
    }
   ],
   "source": [
    "sns.jointplot(\"smokers\", \"poor_mental_health_days\", data=df, kind='kde')"
   ]
  },
  {
   "cell_type": "code",
   "execution_count": 79,
   "metadata": {},
   "outputs": [
    {
     "data": {
      "text/plain": [
       "<seaborn.axisgrid.JointGrid at 0x11e7bf6d0>"
      ]
     },
     "execution_count": 79,
     "metadata": {},
     "output_type": "execute_result"
    },
    {
     "data": {
      "image/png": "[encoded data removed]",
      "text/plain": [
       "<Figure size 432x432 with 3 Axes>"
      ]
     },
     "metadata": {},
     "output_type": "display_data"
    }
   ],
   "source": [
    "sns.jointplot(\"median_household_income\", \"poor_mental_health_days\", data=df, kind='kde')"
   ]
  },
  {
   "cell_type": "code",
   "execution_count": 81,
   "metadata": {},
   "outputs": [
    {
     "data": {
      "text/plain": [
       "<seaborn.axisgrid.JointGrid at 0x1215f5c90>"
      ]
     },
     "execution_count": 81,
     "metadata": {},
     "output_type": "execute_result"
    },
    {
     "data": {
      "image/png": "[encoded data removed]",
      "text/plain": [
       "<Figure size 432x432 with 3 Axes>"
      ]
     },
     "metadata": {},
     "output_type": "display_data"
    }
   ],
   "source": [
    "sns.jointplot(\"air_pollution\", \"poor_mental_health_days\", data=df, kind='kde')"
   ]
  },
  {
   "cell_type": "code",
   "execution_count": null,
   "metadata": {},
   "outputs": [],
   "source": []
  },
  {
   "cell_type": "markdown",
   "metadata": {},
   "source": [
    "## Linear Regression"
   ]
  },
  {
   "cell_type": "code",
   "execution_count": 67,
   "metadata": {},
   "outputs": [],
   "source": [
    "df = pd.read_csv('data_cleaned.csv')"
   ]
  },
  {
   "cell_type": "code",
   "execution_count": null,
   "metadata": {},
   "outputs": [],
   "source": []
  }
 ],
 "metadata": {
  "kernelspec": {
   "display_name": "Python 3",
   "language": "python",
   "name": "python3"
  },
  "language_info": {
   "codemirror_mode": {
    "name": "ipython",
    "version": 3
   },
   "file_extension": ".py",
   "mimetype": "text/x-python",
   "name": "python",
   "nbconvert_exporter": "python",
   "pygments_lexer": "ipython3",
   "version": "3.7.4"
  },
  "toc": {
   "base_numbering": 1,
   "nav_menu": {},
   "number_sections": true,
   "sideBar": true,
   "skip_h1_title": false,
   "title_cell": "Table of Contents",
   "title_sidebar": "Contents",
   "toc_cell": false,
   "toc_position": {},
   "toc_section_display": true,
   "toc_window_display": false
  },
  "varInspector": {
   "cols": {
    "lenName": 16,
    "lenType": 16,
    "lenVar": 40
   },
   "kernels_config": {
    "python": {
     "delete_cmd_postfix": "",
     "delete_cmd_prefix": "del ",
     "library": "var_list.py",
     "varRefreshCmd": "print(var_dic_list())"
    },
    "r": {
     "delete_cmd_postfix": ") ",
     "delete_cmd_prefix": "rm(",
     "library": "var_list.r",
     "varRefreshCmd": "cat(var_dic_list()) "
    }
   },
   "types_to_exclude": [
    "module",
    "function",
    "builtin_function_or_method",
    "instance",
    "_Feature"
   ],
   "window_display": false
  }
 },
 "nbformat": 4,
 "nbformat_minor": 2
}
