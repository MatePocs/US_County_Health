{
 "cells": [
  {
   "cell_type": "markdown",
   "metadata": {},
   "source": [
    "# Lin Regr"
   ]
  },
  {
   "cell_type": "code",
   "execution_count": 70,
   "metadata": {},
   "outputs": [],
   "source": [
    "import pandas as pd\n",
    "import numpy as np\n",
    "import matplotlib.pyplot as plt\n",
    "import seaborn as sns\n",
    "import warnings\n",
    "warnings.filterwarnings('ignore')\n",
    "\n",
    "from sklearn.linear_model import LinearRegression\n",
    "from sklearn.model_selection import cross_val_score\n",
    "from sklearn.model_selection import KFold\n",
    "from sklearn.model_selection import train_test_split\n",
    "\n",
    "from sklearn.preprocessing import StandardScaler\n",
    "from sklearn.preprocessing import PolynomialFeatures\n",
    "\n",
    "from itertools import combinations\n"
   ]
  },
  {
   "cell_type": "code",
   "execution_count": 2,
   "metadata": {},
   "outputs": [],
   "source": [
    "df = pd.read_csv('data_cleaned.csv')"
   ]
  },
  {
   "cell_type": "markdown",
   "metadata": {},
   "source": [
    "## Filtering Out Not Interesting Data"
   ]
  },
  {
   "cell_type": "code",
   "execution_count": 3,
   "metadata": {},
   "outputs": [],
   "source": [
    "df_for_corr = df.iloc[:,6:]"
   ]
  },
  {
   "cell_type": "code",
   "execution_count": 4,
   "metadata": {},
   "outputs": [],
   "source": [
    "df_for_corr = df_for_corr.corr()"
   ]
  },
  {
   "cell_type": "code",
   "execution_count": 5,
   "metadata": {},
   "outputs": [],
   "source": [
    "# checking positive values first"
   ]
  },
  {
   "cell_type": "code",
   "execution_count": 6,
   "metadata": {},
   "outputs": [
    {
     "data": {
      "text/plain": [
       "poor_mental_health_days               1.000000\n",
       "frequent_mental_distress              0.953254\n",
       "poor_physical_health_days             0.919823\n",
       "frequent_physical_distress            0.878407\n",
       "poor_health                           0.743129\n",
       "smokers                               0.739957\n",
       "insufficient_sleep                    0.691513\n",
       "diabetes                              0.655154\n",
       "premature_age_adjusted_mortality      0.647103\n",
       "children_in_oiverty                   0.638065\n",
       "food_insecurity                       0.608685\n",
       "YPLL                                  0.591831\n",
       "physically_inactive                   0.517016\n",
       "children_in_singleparent_household    0.497505\n",
       "teen_birth_rate                       0.495828\n",
       "children_elig_lunch                   0.494406\n",
       "LBW                                   0.472024\n",
       "unemployment                          0.468792\n",
       "income_inequality                     0.410123\n",
       "obese                                 0.394903\n",
       "Name: poor_mental_health_days, dtype: float64"
      ]
     },
     "execution_count": 6,
     "metadata": {},
     "output_type": "execute_result"
    }
   ],
   "source": [
    "df_for_corr['poor_mental_health_days'].sort_values(ascending = False).head(20)"
   ]
  },
  {
   "cell_type": "code",
   "execution_count": 7,
   "metadata": {},
   "outputs": [],
   "source": [
    "columns_to_exclude = []"
   ]
  },
  {
   "cell_type": "code",
   "execution_count": 8,
   "metadata": {},
   "outputs": [],
   "source": [
    "columns_to_exclude.extend(\n",
    "    ['frequent_mental_distress', 'poor_physical_health_days', 'frequent_physical_distress', \n",
    "    'poor_health'] \n",
    ")"
   ]
  },
  {
   "cell_type": "code",
   "execution_count": 9,
   "metadata": {},
   "outputs": [
    {
     "data": {
      "text/plain": [
       "life_expectancy                   -0.633379\n",
       "excessive_drinking                -0.620358\n",
       "median_household_income           -0.559596\n",
       "college                           -0.546793\n",
       "food_environment_index            -0.403171\n",
       "mammography_screenings            -0.342726\n",
       "social_associations               -0.330864\n",
       "exercise_acces                    -0.215343\n",
       "asian                             -0.197639\n",
       "uninsured_children                -0.183329\n",
       "PCP                               -0.168898\n",
       "dentists                          -0.154767\n",
       "nonhispanic_whit                  -0.139804\n",
       "hispanic                          -0.123743\n",
       "homeownership                     -0.123582\n",
       "high_school_graduation            -0.120535\n",
       "notproficient_english             -0.110233\n",
       "flu_vaccinated                    -0.094487\n",
       "alcohol_impaired_driving_deaths   -0.078282\n",
       "population                        -0.065633\n",
       "Name: poor_mental_health_days, dtype: float64"
      ]
     },
     "execution_count": 9,
     "metadata": {},
     "output_type": "execute_result"
    }
   ],
   "source": [
    "df_for_corr['poor_mental_health_days'].sort_values(ascending = True).head(20)"
   ]
  },
  {
   "cell_type": "code",
   "execution_count": 10,
   "metadata": {},
   "outputs": [],
   "source": [
    "columns_to_exclude.extend(\n",
    "    ['life_expectancy'] \n",
    ")"
   ]
  },
  {
   "cell_type": "code",
   "execution_count": 11,
   "metadata": {},
   "outputs": [],
   "source": [
    "df.drop(labels = columns_to_exclude, axis = 1, inplace = True)"
   ]
  },
  {
   "cell_type": "code",
   "execution_count": 12,
   "metadata": {},
   "outputs": [
    {
     "data": {
      "text/plain": [
       "(3142, 63)"
      ]
     },
     "execution_count": 12,
     "metadata": {},
     "output_type": "execute_result"
    }
   ],
   "source": [
    "df.shape"
   ]
  },
  {
   "cell_type": "code",
   "execution_count": null,
   "metadata": {},
   "outputs": [],
   "source": []
  },
  {
   "cell_type": "markdown",
   "metadata": {},
   "source": [
    "## Train - Test Split"
   ]
  },
  {
   "cell_type": "code",
   "execution_count": 13,
   "metadata": {},
   "outputs": [],
   "source": [
    "# splitting the data into train and test"
   ]
  },
  {
   "cell_type": "code",
   "execution_count": 14,
   "metadata": {},
   "outputs": [],
   "source": [
    "y = df['poor_mental_health_days']\n",
    "X = df.drop(['FIPS_state', 'FIPS_county', 'FIPS_full', 'state', 'county', 'year',\n",
    "       'YPLL', 'poor_mental_health_days'], axis = 1)"
   ]
  },
  {
   "cell_type": "code",
   "execution_count": 15,
   "metadata": {},
   "outputs": [],
   "source": [
    "# check if we need to log / sqrt transform anything"
   ]
  },
  {
   "cell_type": "code",
   "execution_count": 16,
   "metadata": {},
   "outputs": [],
   "source": [
    "# for column in X.columns: \n",
    "#     sns.scatterplot(X[column], y)\n",
    "#     plt.show()"
   ]
  },
  {
   "cell_type": "markdown",
   "metadata": {},
   "source": [
    "For now, none of these seem to be obviously log / sqrt types. They are either linear, or look independent. "
   ]
  },
  {
   "cell_type": "code",
   "execution_count": 23,
   "metadata": {},
   "outputs": [],
   "source": [
    "X_train , X_test, y_train, y_test = train_test_split(X, y, test_size=0.2, random_state = 42)"
   ]
  },
  {
   "cell_type": "markdown",
   "metadata": {},
   "source": [
    "## Baseline Model"
   ]
  },
  {
   "cell_type": "code",
   "execution_count": 25,
   "metadata": {},
   "outputs": [],
   "source": [
    "scaler = StandardScaler()\n",
    "X_train_scaled = scaler.fit_transform(X_train)\n",
    "X_test_scaled = scaler.transform(X_test)"
   ]
  },
  {
   "cell_type": "markdown",
   "metadata": {},
   "source": [
    "Using a K-fold model overall, our dataset is quite small. "
   ]
  },
  {
   "cell_type": "code",
   "execution_count": 26,
   "metadata": {},
   "outputs": [
    {
     "data": {
      "text/plain": [
       "0.830323591643683"
      ]
     },
     "execution_count": 26,
     "metadata": {},
     "output_type": "execute_result"
    }
   ],
   "source": [
    "regression = LinearRegression()\n",
    "\n",
    "crossvalidation = KFold(n_splits=5, shuffle=True, random_state= 42)\n",
    "baseline = np.mean(cross_val_score(regression, X_train_scaled, y_train, scoring='r2', cv=crossvalidation))\n",
    "baseline"
   ]
  },
  {
   "cell_type": "code",
   "execution_count": 57,
   "metadata": {},
   "outputs": [
    {
     "data": {
      "text/plain": [
       "array([0.83576378, 0.83895288, 0.84466206, 0.80828791, 0.82395133])"
      ]
     },
     "execution_count": 57,
     "metadata": {},
     "output_type": "execute_result"
    }
   ],
   "source": [
    "cross_val_score(regression, X_train_scaled, y_train, scoring='r2', cv=crossvalidation)"
   ]
  },
  {
   "cell_type": "code",
   "execution_count": 58,
   "metadata": {},
   "outputs": [
    {
     "data": {
      "text/plain": [
       "array([0.83576378, 0.83895288, 0.84466206, 0.80828791, 0.82395133])"
      ]
     },
     "execution_count": 58,
     "metadata": {},
     "output_type": "execute_result"
    }
   ],
   "source": [
    "cross_val_score(regression, X_train, y_train, scoring='r2', cv=crossvalidation)"
   ]
  },
  {
   "cell_type": "markdown",
   "metadata": {},
   "source": [
    "The baseline model's R^2 is 0.83, this is what we are going to compare against. "
   ]
  },
  {
   "cell_type": "markdown",
   "metadata": {},
   "source": [
    "## Interactions"
   ]
  },
  {
   "cell_type": "code",
   "execution_count": 72,
   "metadata": {},
   "outputs": [],
   "source": [
    "combs = list(combinations(X_train.columns, 2))"
   ]
  },
  {
   "cell_type": "code",
   "execution_count": 73,
   "metadata": {},
   "outputs": [],
   "source": [
    "# the cell runs for a while\n",
    "interactions = []\n",
    "\n",
    "for comb in combs:\n",
    "    \n",
    "    data = X_train.copy()\n",
    "    \n",
    "    data['interaction'] = data[comb[0]] * data[comb[1]]\n",
    "    score = np.mean(cross_val_score(regression, data, y_train, scoring='r2', cv=crossvalidation))\n",
    "    if score > baseline: interactions.append((comb[0], comb[1], round(score, 3)))\n",
    "            "
   ]
  },
  {
   "cell_type": "code",
   "execution_count": 74,
   "metadata": {},
   "outputs": [],
   "source": [
    "# we are adding the interactions that increased the average R_squared to over 0.835 (rounded to 3 decimal places)"
   ]
  },
  {
   "cell_type": "code",
   "execution_count": 75,
   "metadata": {},
   "outputs": [],
   "source": [
    "interactions_to_add = [interaction for interaction in interactions if interaction[2] > 0.835]"
   ]
  },
  {
   "cell_type": "code",
   "execution_count": 76,
   "metadata": {},
   "outputs": [
    {
     "data": {
      "text/plain": [
       "[('obese', 'college', 0.836),\n",
       " ('uninsured', 'nonhisp_africanamerican', 0.836),\n",
       " ('air_pollution', 'insufficient_sleep', 0.836),\n",
       " ('severe_housing_problems', 'insufficient_sleep', 0.838),\n",
       " ('insufficient_sleep', 'severe_housing_cost_burden', 0.839),\n",
       " ('uninsured_children', 'nonhisp_africanamerican', 0.84)]"
      ]
     },
     "execution_count": 76,
     "metadata": {},
     "output_type": "execute_result"
    }
   ],
   "source": [
    "interactions_to_add"
   ]
  },
  {
   "cell_type": "code",
   "execution_count": 77,
   "metadata": {},
   "outputs": [],
   "source": [
    "X_train_inter = X_train.copy()"
   ]
  },
  {
   "cell_type": "code",
   "execution_count": 78,
   "metadata": {},
   "outputs": [],
   "source": [
    "for interaction in interactions_to_add:\n",
    "    X_train_inter[interaction[0] + '_' + interaction[1]] = \\\n",
    "    X_train_inter[interaction[0]] * X_train_inter[interaction[1]]"
   ]
  },
  {
   "cell_type": "code",
   "execution_count": 79,
   "metadata": {},
   "outputs": [
    {
     "data": {
      "text/plain": [
       "0.8550484166399034"
      ]
     },
     "execution_count": 79,
     "metadata": {},
     "output_type": "execute_result"
    }
   ],
   "source": [
    "interaction_score = np.mean(cross_val_score(regression, X_train_inter, y_train, scoring='r2', cv=crossvalidation))\n",
    "interaction_score"
   ]
  },
  {
   "cell_type": "markdown",
   "metadata": {},
   "source": [
    "__Summary__: \n",
    "<br>\n",
    "\n",
    "With the interactions in the <code>interactions_to_add</code> variable added to the morel, R<sup>2</sup> increased to 0.855. "
   ]
  },
  {
   "cell_type": "markdown",
   "metadata": {},
   "source": [
    "## Polynomials"
   ]
  },
  {
   "cell_type": "code",
   "execution_count": 96,
   "metadata": {},
   "outputs": [],
   "source": [
    "polynomials = []\n",
    "\n",
    "for column in X_train.columns:\n",
    "    \n",
    "    for degree in [2, 3]:\n",
    "\n",
    "        data = X_train.copy()\n",
    "        poly = PolynomialFeatures(degree, include_bias=False)\n",
    "        X_transformed = poly.fit_transform(X_train[[column]])\n",
    "        \n",
    "        data.reset_index(drop=True, inplace=True)\n",
    "        X_transformed = pd.DataFrame(X_transformed)\n",
    "        X_transformed.reset_index(drop=True, inplace=True)\n",
    "        \n",
    "        data = pd.concat([data.drop(column, axis=1),X_transformed], axis=1)\n",
    "        \n",
    "        score = np.mean(cross_val_score(regression, data, y_train, scoring='r2', cv=crossvalidation))\n",
    "        if score > baseline: polynomials.append((column, degree, round(score, 3)))\n"
   ]
  },
  {
   "cell_type": "code",
   "execution_count": 97,
   "metadata": {},
   "outputs": [],
   "source": [
    "polynomials_to_add = [polynomial for polynomial in polynomials if polynomial[2] > 0.835]"
   ]
  },
  {
   "cell_type": "code",
   "execution_count": 98,
   "metadata": {},
   "outputs": [
    {
     "data": {
      "text/plain": [
       "[('insufficient_sleep', 2, 0.84),\n",
       " ('insufficient_sleep', 3, 0.84),\n",
       " ('uninsured_children', 2, 0.837),\n",
       " ('uninsured_children', 3, 0.837)]"
      ]
     },
     "execution_count": 98,
     "metadata": {},
     "output_type": "execute_result"
    }
   ],
   "source": [
    "polynomials_to_add"
   ]
  },
  {
   "cell_type": "code",
   "execution_count": null,
   "metadata": {},
   "outputs": [],
   "source": []
  }
 ],
 "metadata": {
  "kernelspec": {
   "display_name": "Python 3",
   "language": "python",
   "name": "python3"
  },
  "language_info": {
   "codemirror_mode": {
    "name": "ipython",
    "version": 3
   },
   "file_extension": ".py",
   "mimetype": "text/x-python",
   "name": "python",
   "nbconvert_exporter": "python",
   "pygments_lexer": "ipython3",
   "version": "3.7.4"
  },
  "toc": {
   "base_numbering": 1,
   "nav_menu": {},
   "number_sections": true,
   "sideBar": true,
   "skip_h1_title": false,
   "title_cell": "Table of Contents",
   "title_sidebar": "Contents",
   "toc_cell": false,
   "toc_position": {},
   "toc_section_display": true,
   "toc_window_display": false
  },
  "varInspector": {
   "cols": {
    "lenName": 16,
    "lenType": 16,
    "lenVar": 40
   },
   "kernels_config": {
    "python": {
     "delete_cmd_postfix": "",
     "delete_cmd_prefix": "del ",
     "library": "var_list.py",
     "varRefreshCmd": "print(var_dic_list())"
    },
    "r": {
     "delete_cmd_postfix": ") ",
     "delete_cmd_prefix": "rm(",
     "library": "var_list.r",
     "varRefreshCmd": "cat(var_dic_list()) "
    }
   },
   "types_to_exclude": [
    "module",
    "function",
    "builtin_function_or_method",
    "instance",
    "_Feature"
   ],
   "window_display": false
  }
 },
 "nbformat": 4,
 "nbformat_minor": 2
}
