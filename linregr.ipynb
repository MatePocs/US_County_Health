{
 "cells": [
  {
   "cell_type": "code",
   "execution_count": 1,
   "metadata": {},
   "outputs": [],
   "source": [
    "import pandas as pd\n",
    "import numpy as np\n",
    "import matplotlib.pyplot as plt\n",
    "# import warnings\n",
    "# warnings.filterwarnings('ignore')\n",
    "\n",
    "from sklearn.linear_model import LinearRegression\n",
    "from sklearn.model_selection import cross_val_score\n",
    "from sklearn.model_selection import KFold\n",
    "from sklearn.preprocessing import scale"
   ]
  },
  {
   "cell_type": "code",
   "execution_count": 2,
   "metadata": {},
   "outputs": [],
   "source": [
    "df = pd.read_csv('usable_data.csv')\n",
    "df.drop('Unnamed: 0', axis = 1, inplace = True)"
   ]
  },
  {
   "cell_type": "code",
   "execution_count": 16,
   "metadata": {},
   "outputs": [],
   "source": [
    "df.dropna(inplace = True)"
   ]
  },
  {
   "cell_type": "code",
   "execution_count": 13,
   "metadata": {},
   "outputs": [
    {
     "data": {
      "text/plain": [
       "Index(['State FIPS Code', 'County FIPS Code', '5-digit FIPS Code',\n",
       "       'State Abbreviation', 'Name', 'Release Year',\n",
       "       'Premature death raw value', 'Poor or fair health raw value',\n",
       "       'Poor physical health days raw value',\n",
       "       'Poor mental health days raw value', 'Low birthweight raw value',\n",
       "       'Adult smoking raw value', 'Adult obesity raw value',\n",
       "       'Food environment index raw value', 'Physical inactivity raw value',\n",
       "       'Access to exercise opportunities raw value',\n",
       "       'Excessive drinking raw value',\n",
       "       'Alcohol-impaired driving deaths raw value',\n",
       "       'Sexually transmitted infections raw value', 'Teen births raw value',\n",
       "       'Uninsured raw value', 'Primary care physicians raw value',\n",
       "       'Dentists raw value', 'Mental health providers raw value',\n",
       "       'Preventable hospital stays raw value',\n",
       "       'Mammography screening raw value', 'Flu vaccinations raw value',\n",
       "       'High school graduation raw value', 'Some college raw value',\n",
       "       'Unemployment raw value', 'Children in poverty raw value',\n",
       "       'Income inequality raw value',\n",
       "       'Children in single-parent households raw value',\n",
       "       'Social associations raw value', 'Violent crime raw value',\n",
       "       'Injury deaths raw value',\n",
       "       'Air pollution - particulate matter raw value',\n",
       "       'Drinking water violations raw value',\n",
       "       'Severe housing problems raw value', 'Driving alone to work raw value',\n",
       "       'Long commute - driving alone raw value', 'Life expectancy raw value',\n",
       "       'Premature age-adjusted mortality raw value',\n",
       "       'Frequent physical distress raw value',\n",
       "       'Frequent mental distress raw value', 'Diabetes prevalence raw value',\n",
       "       'Food insecurity raw value',\n",
       "       'Limited access to healthy foods raw value',\n",
       "       'Insufficient sleep raw value', 'Uninsured adults raw value',\n",
       "       'Uninsured children raw value',\n",
       "       'Other primary care providers raw value',\n",
       "       'Median household income raw value',\n",
       "       'Children eligible for free or reduced price lunch raw value',\n",
       "       'Homeownership raw value', 'Severe housing cost burden raw value',\n",
       "       'Population raw value', '% below 18 years of age raw value',\n",
       "       '% 65 and older raw value', '% Non-Hispanic African American raw value',\n",
       "       '% American Indian and Alaskan Native raw value', '% Asian raw value',\n",
       "       '% Native Hawaiian/Other Pacific Islander raw value',\n",
       "       '% Hispanic raw value', '% Non-Hispanic white raw value',\n",
       "       '% not proficient in English raw value', '% Females raw value',\n",
       "       '% Rural raw value'],\n",
       "      dtype='object')"
      ]
     },
     "execution_count": 13,
     "metadata": {},
     "output_type": "execute_result"
    }
   ],
   "source": [
    "df.columns"
   ]
  },
  {
   "cell_type": "code",
   "execution_count": 17,
   "metadata": {},
   "outputs": [],
   "source": [
    "y = df['Life expectancy raw value']\n",
    "X = df.drop(['State FIPS Code', 'County FIPS Code', '5-digit FIPS Code',\n",
    "       'State Abbreviation', 'Name', 'Release Year','Life expectancy raw value'], axis = 1)"
   ]
  },
  {
   "cell_type": "code",
   "execution_count": 18,
   "metadata": {},
   "outputs": [
    {
     "data": {
      "text/plain": [
       "0.9479052475501899"
      ]
     },
     "execution_count": 18,
     "metadata": {},
     "output_type": "execute_result"
    }
   ],
   "source": [
    "regression = LinearRegression()\n",
    "\n",
    "crossvalidation = KFold(n_splits=5, shuffle=True, random_state=1)\n",
    "baseline = np.mean(cross_val_score(regression, X, y, scoring='r2', cv=crossvalidation))\n",
    "baseline"
   ]
  },
  {
   "cell_type": "code",
   "execution_count": null,
   "metadata": {},
   "outputs": [],
   "source": []
  }
 ],
 "metadata": {
  "kernelspec": {
   "display_name": "Python 3",
   "language": "python",
   "name": "python3"
  },
  "language_info": {
   "codemirror_mode": {
    "name": "ipython",
    "version": 3
   },
   "file_extension": ".py",
   "mimetype": "text/x-python",
   "name": "python",
   "nbconvert_exporter": "python",
   "pygments_lexer": "ipython3",
   "version": "3.7.4"
  },
  "toc": {
   "base_numbering": 1,
   "nav_menu": {},
   "number_sections": true,
   "sideBar": true,
   "skip_h1_title": false,
   "title_cell": "Table of Contents",
   "title_sidebar": "Contents",
   "toc_cell": false,
   "toc_position": {},
   "toc_section_display": true,
   "toc_window_display": false
  },
  "varInspector": {
   "cols": {
    "lenName": 16,
    "lenType": 16,
    "lenVar": 40
   },
   "kernels_config": {
    "python": {
     "delete_cmd_postfix": "",
     "delete_cmd_prefix": "del ",
     "library": "var_list.py",
     "varRefreshCmd": "print(var_dic_list())"
    },
    "r": {
     "delete_cmd_postfix": ") ",
     "delete_cmd_prefix": "rm(",
     "library": "var_list.r",
     "varRefreshCmd": "cat(var_dic_list()) "
    }
   },
   "types_to_exclude": [
    "module",
    "function",
    "builtin_function_or_method",
    "instance",
    "_Feature"
   ],
   "window_display": false
  }
 },
 "nbformat": 4,
 "nbformat_minor": 2
}
